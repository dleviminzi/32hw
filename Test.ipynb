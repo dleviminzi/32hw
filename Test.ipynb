{
  "nbformat": 4,
  "nbformat_minor": 0,
  "metadata": {
    "colab": {
      "name": "Test.ipynb",
      "provenance": [],
      "include_colab_link": true
    },
    "kernelspec": {
      "name": "python3",
      "display_name": "Python 3"
    }
  },
  "cells": [
    {
      "cell_type": "markdown",
      "metadata": {
        "id": "view-in-github",
        "colab_type": "text"
      },
      "source": [
        "<a href=\"https://colab.research.google.com/github/dleviminzi/32hw/blob/master/Test.ipynb\" target=\"_parent\"><img src=\"https://colab.research.google.com/assets/colab-badge.svg\" alt=\"Open In Colab\"/></a>"
      ]
    },
    {
      "cell_type": "code",
      "metadata": {
        "id": "ij8u1H6DThBG"
      },
      "source": [
        "import numpy as np\n",
        "import matplotlib.pyplot as plt"
      ],
      "execution_count": null,
      "outputs": []
    },
    {
      "cell_type": "code",
      "metadata": {
        "id": "Vq-tNV22Uncs"
      },
      "source": [
        "rands = np.random.rand(3)\n",
        "L = 0.01\n",
        "x = np.linspace(-L,L,1000)\n",
        "\n",
        "\n",
        "f3 = 0\n",
        "f100 = 0\n",
        "f1 = 4/np.pi * np.sin(np.pi*x/L)\n",
        "\n",
        "for n in range(1,4,1):\n",
        "  f3 = f3 + 4/np.pi * 1/n * np.sin(n*np.pi*x/L) \n",
        "\n",
        "for n in range(1,10,2):\n",
        "  f100 = f3 + f100 + 4/np.pi * 1/n * np.sin(n*np.pi*x/L) \n",
        "\n",
        "\n"
      ],
      "execution_count": null,
      "outputs": []
    },
    {
      "cell_type": "code",
      "metadata": {
        "id": "LnCAP9fAU2bc",
        "outputId": "1af2b209-73e7-4272-9f94-a2be0a8eac52",
        "colab": {
          "base_uri": "https://localhost:8080/",
          "height": 282
        }
      },
      "source": [
        "plt.plot(x,f1)\n",
        "plt.plot(x,f3)\n",
        "plt.plot(x,f100)"
      ],
      "execution_count": null,
      "outputs": [
        {
          "output_type": "execute_result",
          "data": {
            "text/plain": [
              "[<matplotlib.lines.Line2D at 0x7f49addc9d68>]"
            ]
          },
          "metadata": {
            "tags": []
          },
          "execution_count": 24
        },
        {
          "output_type": "display_data",
          "data": {
            "image/png": "[encoded data removed]",
            "text/plain": [
              "<Figure size 432x288 with 1 Axes>"
            ]
          },
          "metadata": {
            "tags": [],
            "needs_background": "light"
          }
        }
      ]
    },
    {
      "cell_type": "code",
      "metadata": {
        "id": "u3bWoEpzU36m",
        "outputId": "9f4dbd53-6e1b-4234-8e16-0df0020ce7f4",
        "colab": {
          "base_uri": "https://localhost:8080/",
          "height": 527
        }
      },
      "source": [
        "print(f1)"
      ],
      "execution_count": null,
      "outputs": [
        {
          "output_type": "stream",
          "text": [
            "[ 0.00000000e+00  1.21501002e+00  7.26471061e-01 -7.80643069e-01\n",
            " -1.19322820e+00  6.71956590e-02  1.23340540e+00  6.70274247e-01\n",
            " -8.32639285e-01 -1.16812063e+00  1.34204032e-01  1.24836305e+00\n",
            "  6.12209259e-01 -8.82314786e-01 -1.13975730e+00  2.00838353e-01\n",
            "  1.25984129e+00  5.52437934e-01 -9.29531118e-01 -1.10821726e+00\n",
            "  2.66912903e-01  1.26780813e+00  4.91126866e-01 -9.74156679e-01\n",
            " -1.07358843e+00  3.32243518e-01  1.27224136e+00  4.28446939e-01\n",
            " -1.01606709e+00 -1.03596731e+00  3.96648111e-01  1.27312862e+00\n",
            "  3.64572853e-01 -1.05514554e+00 -9.95458761e-01  4.59947175e-01\n",
            "  1.27046745e+00  2.99682637e-01 -1.09128311e+00 -9.52175692e-01\n",
            "  5.21964283e-01  1.26426525e+00  2.33957152e-01 -1.12437908e+00\n",
            " -9.06238738e-01  5.82526583e-01  1.25453933e+00  1.67579587e-01\n",
            " -1.15434121e+00 -8.57775935e-01  6.41465277e-01  1.24131677e+00\n",
            "  1.00734947e-01 -1.18108597e+00 -8.06922356e-01  6.98616093e-01\n",
            "  1.22463444e+00  3.36095410e-02 -1.20453884e+00 -7.53819740e-01\n",
            "  7.53819740e-01  1.20453884e+00 -3.36095410e-02 -1.22463444e+00\n",
            " -6.98616093e-01  8.06922356e-01  1.18108597e+00 -1.00734947e-01\n",
            " -1.24131677e+00 -6.41465277e-01  8.57775935e-01  1.15434121e+00\n",
            " -1.67579587e-01 -1.25453933e+00 -5.82526583e-01  9.06238738e-01\n",
            "  1.12437908e+00 -2.33957152e-01 -1.26426525e+00 -5.21964283e-01\n",
            "  9.52175692e-01  1.09128311e+00 -2.99682637e-01 -1.27046745e+00\n",
            " -4.59947175e-01  9.95458761e-01  1.05514554e+00 -3.64572853e-01\n",
            " -1.27312862e+00 -3.96648111e-01  1.03596731e+00  1.01606709e+00\n",
            " -4.28446939e-01 -1.27224136e+00 -3.32243518e-01  1.07358843e+00\n",
            "  9.74156679e-01 -4.91126866e-01 -1.26780813e+00 -2.66912903e-01\n",
            "  1.10821727e+00  9.29531118e-01 -5.52437934e-01 -1.25984129e+00\n",
            " -2.00838353e-01  1.13975730e+00  8.82314786e-01 -6.12209259e-01\n",
            " -1.24836305e+00 -1.34204032e-01  1.16812063e+00  8.32639285e-01\n",
            " -6.70274247e-01 -1.23340540e+00 -6.71956590e-02  1.19322820e+00\n",
            "  7.80643069e-01 -7.26471061e-01 -1.21501002e+00 -4.09240384e-13]\n"
          ],
          "name": "stdout"
        }
      ]
    },
    {
      "cell_type": "code",
      "metadata": {
        "id": "qvPWSi3pVdKn"
      },
      "source": [
        ""
      ],
      "execution_count": null,
      "outputs": []
    }
  ]
}