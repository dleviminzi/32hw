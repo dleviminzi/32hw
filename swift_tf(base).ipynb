{
  "nbformat": 4,
  "nbformat_minor": 0,
  "metadata": {
    "colab": {
      "name": "swift-tf(base).ipynb",
      "provenance": [],
      "collapsed_sections": [],
      "include_colab_link": true
    },
    "kernelspec": {
      "name": "swift",
      "display_name": "Swift"
    }
  },
  "cells": [
    {
      "cell_type": "markdown",
      "metadata": {
        "id": "view-in-github",
        "colab_type": "text"
      },
      "source": [
        "<a href=\"https://colab.research.google.com/github/dminzi98/32hw/blob/master/swift_tf(base).ipynb\" target=\"_parent\"><img src=\"https://colab.research.google.com/assets/colab-badge.svg\" alt=\"Open In Colab\"/></a>"
      ]
    },
    {
      "cell_type": "code",
      "metadata": {
        "id": "kZRlD4utdPuX",
        "colab_type": "code",
        "outputId": "79d822ce-3729-410d-f744-421e3e30e8f6",
        "colab": {
          "base_uri": "https://localhost:8080/",
          "height": 34
        }
      },
      "source": [
        "%include \"EnableIPythonDisplay.swift\"\n",
        "IPythonDisplay.shell.enable_matplotlib(\"inline\")"
      ],
      "execution_count": 3,
      "outputs": [
        {
          "output_type": "execute_result",
          "data": {
            "text/plain": [
              "('inline', 'module://ipykernel.pylab.backend_inline')\n"
            ]
          },
          "metadata": {
            "tags": []
          },
          "execution_count": 3
        }
      ]
    },
    {
      "cell_type": "code",
      "metadata": {
        "id": "LWDSlghPPWCz",
        "colab_type": "code",
        "colab": {}
      },
      "source": [
        "import Python"
      ],
      "execution_count": 0,
      "outputs": []
    },
    {
      "cell_type": "code",
      "metadata": {
        "id": "lBy1wJjIQZDd",
        "colab_type": "code",
        "colab": {}
      },
      "source": [
        "let nx = Python.import(\"networkx\")"
      ],
      "execution_count": 0,
      "outputs": []
    },
    {
      "cell_type": "code",
      "metadata": {
        "id": "lUDFYvRyQe8G",
        "colab_type": "code",
        "colab": {}
      },
      "source": [
        "let plt = Python.import(\"matplotlib.pyplot\")"
      ],
      "execution_count": 0,
      "outputs": []
    },
    {
      "cell_type": "code",
      "metadata": {
        "id": "og9Qkv2yQ45A",
        "colab_type": "code",
        "colab": {
          "base_uri": "https://localhost:8080/",
          "height": 51
        },
        "outputId": "fc8b3eca-0e56-41dd-9c2b-6759a07ecef7"
      },
      "source": [
        "// network setup \n",
        "var net = nx.Graph()\n",
        "let edges = [(1, 2), (1, 5), (1,6), (2, 3), (2, 5), (3, 5), (3, 4), (4, 5), (4, 7), (5, 6), (5, 7), (6, 7), (6, 8), (7, 8), (8, 9), (9, 10)]\n",
        "\n",
        "for edge in edges {\n",
        "  net.add_edge(edge.0, edge.1)\n",
        "}\n",
        "\n",
        "// preliminary check\n",
        "print(net.number_of_edges())\n",
        "print(net.number_of_nodes())"
      ],
      "execution_count": 29,
      "outputs": [
        {
          "output_type": "stream",
          "text": [
            "16\r\n",
            "10\r\n"
          ],
          "name": "stdout"
        }
      ]
    },
    {
      "cell_type": "code",
      "metadata": {
        "id": "2MlMzJ35SCg8",
        "colab_type": "code",
        "colab": {
          "base_uri": "https://localhost:8080/",
          "height": 336
        },
        "outputId": "9938fcf7-916c-4cca-da54-767a359cfbbb"
      },
      "source": [
        "// visualization of the network\n",
        "var labels: PythonObject = [1: \"A\", 2: \"B\", 3: \"C\", 4: \"D\", 5: \"E\", 6: \"F\", 7: \"G\", 8: \"H\", 9: \"I\", 10: \"J\"]\n",
        "nx.draw_spring(net)\n",
        "plt.show()"
      ],
      "execution_count": 75,
      "outputs": [
        {
          "output_type": "display_data",
          "data": {
            "image/png": "[encoded data removed]",
            "text/plain": [
              "<Figure size 432x288 with 1 Axes>"
            ]
          },
          "metadata": {
            "tags": []
          }
        },
        {
          "output_type": "execute_result",
          "data": {
            "text/plain": [
              "None\n"
            ]
          },
          "metadata": {
            "tags": []
          },
          "execution_count": 75
        }
      ]
    },
    {
      "cell_type": "code",
      "metadata": {
        "id": "ztafTgOpVW0I",
        "colab_type": "code",
        "colab": {
          "base_uri": "https://localhost:8080/",
          "height": 204
        },
        "outputId": "d4a0f2cc-76e6-47c8-e30b-700d89109a0c"
      },
      "source": [
        "var dCent = nx.degree_centrality(net)\n",
        "var cCent = nx.closeness_centrality(net)\n",
        "var bCent = nx.betweenness_centrality(net)\n",
        "\n",
        "print(\"Node & Degree & Closeness & Betweeness \\\\\\\\\")\n",
        "for node in 1...10 {\n",
        "  print(\"\\(node) & \\(dCent[node]) & \\(cCent[node]) & \\(bCent[node]) \\\\\\\\\")\n",
        "}"
      ],
      "execution_count": 107,
      "outputs": [
        {
          "output_type": "stream",
          "text": [
            "Node & Degree & Closeness & Betweeness \\\\\r\n",
            "1 & 0.3333333333333333 & 0.5 & 0.04166666666666667 \\\\\r\n",
            "2 & 0.3333333333333333 & 0.42857142857142855 & 0.013888888888888888 \\\\\r\n",
            "3 & 0.3333333333333333 & 0.42857142857142855 & 0.013888888888888888 \\\\\r\n",
            "4 & 0.3333333333333333 & 0.5 & 0.04166666666666667 \\\\\r\n",
            "5 & 0.6666666666666666 & 0.6 & 0.27777777777777773 \\\\\r\n",
            "6 & 0.4444444444444444 & 0.6 & 0.2222222222222222 \\\\\r\n",
            "7 & 0.4444444444444444 & 0.6 & 0.2222222222222222 \\\\\r\n",
            "8 & 0.3333333333333333 & 0.5294117647058824 & 0.38888888888888884 \\\\\r\n",
            "9 & 0.2222222222222222 & 0.391304347826087 & 0.2222222222222222 \\\\\r\n",
            "10 & 0.1111111111111111 & 0.2903225806451613 & 0.0 \\\\\r\n"
          ],
          "name": "stdout"
        }
      ]
    },
    {
      "cell_type": "code",
      "metadata": {
        "id": "licjYle5bIJY",
        "colab_type": "code",
        "colab": {}
      },
      "source": [
        ""
      ],
      "execution_count": 0,
      "outputs": []
    }
  ]
}